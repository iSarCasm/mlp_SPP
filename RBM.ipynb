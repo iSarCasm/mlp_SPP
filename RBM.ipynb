{
 "cells": [
  {
   "cell_type": "code",
   "execution_count": 5,
   "metadata": {},
   "outputs": [
    {
     "name": "stderr",
     "output_type": "stream",
     "text": [
      "/home/sarcasm/.local/lib/python3.5/site-packages/h5py/__init__.py:36: FutureWarning: Conversion of the second argument of issubdtype from `float` to `np.floating` is deprecated. In future, it will be treated as `np.float64 == np.dtype(float).type`.\n",
      "  from ._conv import register_converters as _register_converters\n",
      "Using TensorFlow backend.\n"
     ]
    }
   ],
   "source": [
    "import numpy as np\n",
    "from sklearn.neural_network import BernoulliRBM\n",
    "from numpy import genfromtxt\n",
    "from metrics import Metrics\n",
    "import csv, sys\n",
    "import time"
   ]
  },
  {
   "cell_type": "code",
   "execution_count": 15,
   "metadata": {},
   "outputs": [],
   "source": [
    "train_dataset_small = genfromtxt('train_dataset_1400.csv', delimiter=',')\n",
    "train_dataset_medium = genfromtxt('train_dataset_14000.csv', delimiter=',')\n",
    "train_dataset_large = genfromtxt('train_dataset_49000.csv', delimiter=',')\n",
    "cross_validation_dataset = genfromtxt('validation_dataset.csv', delimiter=',')\n",
    "test_dataset = genfromtxt('test_dataset.csv', delimiter=',')\n",
    "\n",
    "# Shuffle Train Data\n",
    "np.random.shuffle(train_dataset_small)\n",
    "np.random.shuffle(train_dataset_medium)\n",
    "np.random.shuffle(train_dataset_large)\n",
    "\n",
    "# Split into Inputs and Labels\n",
    "train_inputs_small, train_labels_small = np.hsplit(train_dataset_small, 2)\n",
    "train_inputs_small = np.array(train_inputs_small).reshape(len(train_dataset_small), 34)\n",
    "train_labels_small = np.array(train_labels_small).reshape(len(train_dataset_small), 34)\n",
    "\n",
    "train_inputs_medium , train_labels_medium  = np.hsplit(train_dataset_medium, 2)\n",
    "train_inputs_medium = np.array(train_inputs_medium).reshape(len(train_dataset_medium), 34)\n",
    "train_labels_medium = np.array(train_labels_medium).reshape(len(train_dataset_medium), 34)\n",
    "\n",
    "train_inputs_large, train_labels_large = np.hsplit(train_dataset_large, 2)\n",
    "train_inputs_large = np.array(train_inputs_large).reshape(len(train_dataset_large), 34)\n",
    "train_labels_large = np.array(train_labels_large).reshape(len(train_dataset_large), 34)\n",
    "\n",
    "cross_validation_inputs, cross_validation_labels = np.hsplit(cross_validation_dataset, 2)\n",
    "cross_validation_inputs = np.array(cross_validation_inputs).reshape(len(cross_validation_dataset), 34)\n",
    "cross_validation_labels = np.array(cross_validation_labels).reshape(len(cross_validation_dataset), 34)\n",
    "\n",
    "test_inputs, test_labels = np.hsplit(test_dataset, 2)\n",
    "test_inputs = np.array(test_inputs).reshape(len(test_dataset), 34)\n",
    "test_labels = np.array(test_labels).reshape(len(test_dataset), 34)\n",
    "\n",
    "# Normalize Data\n",
    "gigabit_max_throughput = 125 * 1e6 # 1000 MB/s\n",
    "gigabit_min_throughput = 1e2       # 100 bytes/s\n",
    "norm = gigabit_max_throughput - gigabit_min_throughput\n",
    "\n",
    "train_inputs_small = (train_inputs_small - gigabit_min_throughput) / norm\n",
    "train_inputs_medium = (train_inputs_medium - gigabit_min_throughput) / norm\n",
    "train_inputs_large = (train_inputs_large - gigabit_min_throughput) / norm\n",
    "cross_validation_inputs = (cross_validation_inputs - gigabit_min_throughput) / norm\n",
    "test_inputs = (test_inputs - gigabit_min_throughput) / norm\n",
    "\n",
    "train_data_small = np.concatenate((train_inputs_small, train_labels_small), axis = 1)\n",
    "train_data_medium = np.concatenate((train_inputs_medium, train_labels_medium), axis = 1)\n",
    "train_data_large = np.concatenate((train_inputs_large, train_labels_large), axis = 1)\n",
    "validation_data = np.concatenate((cross_validation_inputs, cross_validation_labels), axis = 1)\n",
    "test_data = np.concatenate((test_inputs, test_labels), axis = 1)"
   ]
  },
  {
   "cell_type": "code",
   "execution_count": 17,
   "metadata": {},
   "outputs": [
    {
     "name": "stdout",
     "output_type": "stream",
     "text": [
      "[0.29838456 0.21155664 0.43844472 0.94801352 0.52507151 0.28438229\n",
      " 0.07966445 0.4462371  0.20474213 0.80705589 0.08195367 0.85242344\n",
      " 0.15072627 0.89893003 0.85411628 0.32762067 0.74916412 0.09128691\n",
      " 0.38495138 0.37555857 0.04604257 0.75324191 0.98375752 0.83147088\n",
      " 0.99598586 0.74641631 0.81665583 0.46277895 0.13969151 0.54697761\n",
      " 0.84922143 0.78215138 0.38294673 0.13838877 0.         0.\n",
      " 0.         1.         0.         0.         0.         0.\n",
      " 0.         0.         0.         0.         0.         0.\n",
      " 0.         0.         1.         1.         1.         1.\n",
      " 0.         1.         0.         0.         0.         1.\n",
      " 0.         1.         0.         0.         0.         0.\n",
      " 0.         0.        ]\n"
     ]
    }
   ],
   "source": [
    "print(test_data[0])"
   ]
  },
  {
   "cell_type": "code",
   "execution_count": 18,
   "metadata": {},
   "outputs": [
    {
     "data": {
      "text/plain": [
       "BernoulliRBM(batch_size=10, learning_rate=0.1, n_components=2, n_iter=10,\n",
       "       random_state=None, verbose=0)"
      ]
     },
     "execution_count": 18,
     "metadata": {},
     "output_type": "execute_result"
    }
   ],
   "source": [
    "number_of_hidden_units = 2\n",
    "\n",
    "model = BernoulliRBM(n_components=number_of_hidden_units)\n",
    "model.fit(train_data_small)"
   ]
  },
  {
   "cell_type": "code",
   "execution_count": null,
   "metadata": {},
   "outputs": [],
   "source": []
  }
 ],
 "metadata": {
  "kernelspec": {
   "display_name": "Python 3",
   "language": "python",
   "name": "python3"
  },
  "language_info": {
   "codemirror_mode": {
    "name": "ipython",
    "version": 3
   },
   "file_extension": ".py",
   "mimetype": "text/x-python",
   "name": "python",
   "nbconvert_exporter": "python",
   "pygments_lexer": "ipython3",
   "version": "3.5.2"
  }
 },
 "nbformat": 4,
 "nbformat_minor": 2
}
