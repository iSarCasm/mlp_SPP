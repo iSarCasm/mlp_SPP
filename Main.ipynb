{
 "cells": [
  {
   "cell_type": "markdown",
   "metadata": {},
   "source": [
    "## Importing"
   ]
  },
  {
   "cell_type": "code",
   "execution_count": 1,
   "metadata": {},
   "outputs": [],
   "source": [
    "import numpy as np\n",
    "import matplotlib.pyplot as plt\n",
    "from matplotlib.ticker import FormatStrFormatter\n",
    "import networkx as nx\n",
    "import csv, sys\n",
    "\n",
    "%matplotlib inline"
   ]
  },
  {
   "cell_type": "markdown",
   "metadata": {},
   "source": [
    "## Network Setup"
   ]
  },
  {
   "cell_type": "code",
   "execution_count": 2,
   "metadata": {},
   "outputs": [
    {
     "name": "stdout",
     "output_type": "stream",
     "text": [
      "Network has 30 nodes\n",
      "Network has 34 edges\n",
      "Finding SP from 12 to 1\n"
     ]
    },
    {
     "data": {
      "image/png": "[encoded data removed]",
      "text/plain": [
       "<Figure size 432x288 with 1 Axes>"
      ]
     },
     "metadata": {},
     "output_type": "display_data"
    }
   ],
   "source": [
    "G=nx.Graph()\n",
    "G.add_nodes_from(list(range(1,30)))\n",
    "G.add_edges_from([(1,2),(1,29), (1, 23), (1, 26)])\n",
    "G.add_edge(30, 29)\n",
    "G.add_edges_from([(21,23),(21,22), (21, 20)])\n",
    "G.add_edges_from([(28,27),(27,26), (26, 24), (24, 25), (22, 24)])\n",
    "G.add_edges_from([(5,3),(5,2), (5, 6)])\n",
    "G.add_edges_from([(4,3),(3,2),(2, 19),(19,18),(18,17),(17,16),(16,15),(15,20)])\n",
    "G.add_edges_from([(19,6),(6,7),(7, 8),(8,9),(9,10),(10,11),(11,12),(11,13),(13,14),(14,15)])\n",
    "\n",
    "nodes = len(G.nodes())\n",
    "edges = len(G.edges())\n",
    "print(\"Network has {} nodes\".format(nodes))\n",
    "print(\"Network has {} edges\".format(edges))\n",
    "\n",
    "source = 12\n",
    "target = 1\n",
    "print(\"Finding SP from {} to {}\".format(source, target))\n",
    "\n",
    "nx.draw(G)\n",
    "plt.show()"
   ]
  },
  {
   "cell_type": "markdown",
   "metadata": {},
   "source": [
    "## Generating Data"
   ]
  },
  {
   "cell_type": "markdown",
   "metadata": {},
   "source": [
    "### Randomizing Input Weights"
   ]
  },
  {
   "cell_type": "code",
   "execution_count": 60,
   "metadata": {},
   "outputs": [
    {
     "name": "stdout",
     "output_type": "stream",
     "text": [
      "Max througtput: 125000000.0\n",
      "Min througtput: 100.0\n",
      "f max: 15.38\n",
      "f min: 1.2304e-05\n"
     ]
    }
   ],
   "source": [
    "gigabit_max_packet_size = 1518 + 12 + 8 # Ethernet Frame + Interframe Gap + Preamble\n",
    "gigabit_max_throughput = 125 * 1e6 # 1000 MB/s\n",
    "gigabit_min_throughput = 1e2       # 100 bytes/s\n",
    "f_min = gigabit_max_packet_size / gigabit_max_throughput\n",
    "f_max = gigabit_max_packet_size / gigabit_min_throughput\n",
    "\n",
    "print('Max througtput: ' + str(gigabit_max_throughput))\n",
    "print('Min througtput: ' + str(gigabit_min_throughput))\n",
    "print('f max: ' + str(f_max))\n",
    "print('f min: ' + str(f_min))\n",
    "\n",
    "def generate_example_inputs(G):\n",
    "    throughputs = []\n",
    "    for edge in G.edges():\n",
    "        i, j = edge\n",
    "        throughput = np.random.uniform(gigabit_min_throughput, gigabit_max_throughput)\n",
    "        G[i][j]['weight'] = gigabit_max_packet_size / throughput\n",
    "        weights.append(G[i][j]['weight'])\n",
    "    return throughput\n",
    "\n"
   ]
  },
  {
   "cell_type": "markdown",
   "metadata": {},
   "source": [
    "### Calculating Correct Path Output"
   ]
  },
  {
   "cell_type": "code",
   "execution_count": 136,
   "metadata": {},
   "outputs": [],
   "source": [
    "def route_to_vec(route):\n",
    "    path_vector = [0] * edges\n",
    "    for i in route:\n",
    "        path_vector[i-1] = 1\n",
    "    return path_vector\n",
    "\n",
    "def generate_example_output(G):\n",
    "    dijkstra = nx.bidirectional_dijkstra(G, source=source, target=target)\n",
    "    path_list = dijkstra[1]\n",
    "    path_vector = route_to_vec(path_list)\n",
    "    return path_vector"
   ]
  },
  {
   "cell_type": "code",
   "execution_count": 195,
   "metadata": {},
   "outputs": [
    {
     "name": "stdout",
     "output_type": "stream",
     "text": [
      "Generating 1000000 examples\n"
     ]
    }
   ],
   "source": [
    "def generate_example():\n",
    "    x = generate_example_inputs(G)\n",
    "    y = generate_example_output(G)\n",
    "    return x,y\n",
    "\n",
    "m = 1000000\n",
    "print(\"Generating {} examples\".format(m))\n",
    "\n",
    "data = []\n",
    "labels = []\n",
    "\n",
    "for i in range(m):\n",
    "    x, y = generate_example()\n",
    "    data.append(x)\n",
    "    labels.append(y)"
   ]
  },
  {
   "cell_type": "markdown",
   "metadata": {},
   "source": [
    "### Dataset alanysis"
   ]
  },
  {
   "cell_type": "code",
   "execution_count": 194,
   "metadata": {},
   "outputs": [
    {
     "name": "stdout",
     "output_type": "stream",
     "text": [
      "All possible routes from 12 to 1\n",
      "Route 0 => [12, 11, 10, 9, 8, 7, 6, 19, 2, 1]\n",
      "Route 1 => [12, 11, 10, 9, 8, 7, 6, 19, 18, 17, 16, 15, 20, 21, 22, 24, 26, 1]\n",
      "Route 2 => [12, 11, 10, 9, 8, 7, 6, 19, 18, 17, 16, 15, 20, 21, 23, 1]\n",
      "Route 3 => [12, 11, 10, 9, 8, 7, 6, 5, 2, 19, 18, 17, 16, 15, 20, 21, 22, 24, 26, 1]\n",
      "Route 4 => [12, 11, 10, 9, 8, 7, 6, 5, 2, 19, 18, 17, 16, 15, 20, 21, 23, 1]\n",
      "Route 5 => [12, 11, 10, 9, 8, 7, 6, 5, 2, 1]\n",
      "Route 6 => [12, 11, 10, 9, 8, 7, 6, 5, 3, 2, 19, 18, 17, 16, 15, 20, 21, 22, 24, 26, 1]\n",
      "Route 7 => [12, 11, 10, 9, 8, 7, 6, 5, 3, 2, 19, 18, 17, 16, 15, 20, 21, 23, 1]\n",
      "Route 8 => [12, 11, 10, 9, 8, 7, 6, 5, 3, 2, 1]\n",
      "Route 9 => [12, 11, 13, 14, 15, 16, 17, 18, 19, 2, 1]\n",
      "Route 10 => [12, 11, 13, 14, 15, 16, 17, 18, 19, 6, 5, 2, 1]\n",
      "Route 11 => [12, 11, 13, 14, 15, 16, 17, 18, 19, 6, 5, 3, 2, 1]\n",
      "Route 12 => [12, 11, 13, 14, 15, 20, 21, 22, 24, 26, 1]\n",
      "Route 13 => [12, 11, 13, 14, 15, 20, 21, 23, 1]\n",
      "Route 0 has 188587 examples in dataset\n",
      "Route 1 has 721 examples in dataset\n",
      "Route 2 has 3529 examples in dataset\n",
      "Route 3 has 62 examples in dataset\n",
      "Route 4 has 258 examples in dataset\n",
      "Route 5 has 188370 examples in dataset\n",
      "Route 6 has 6 examples in dataset\n",
      "Route 7 has 64 examples in dataset\n",
      "Route 8 has 29666 examples in dataset\n",
      "Route 9 has 109836 examples in dataset\n",
      "Route 10 has 7302 examples in dataset\n",
      "Route 11 has 1094 examples in dataset\n",
      "Route 12 has 70364 examples in dataset\n",
      "Route 13 has 400141 examples in dataset\n"
     ]
    },
    {
     "data": {
      "image/png": "[encoded data removed]",
      "text/plain": [
       "<Figure size 720x360 with 1 Axes>"
      ]
     },
     "metadata": {},
     "output_type": "display_data"
    },
    {
     "data": {
      "image/png": "[encoded data removed]",
      "text/plain": [
       "<Figure size 432x288 with 1 Axes>"
      ]
     },
     "metadata": {},
     "output_type": "display_data"
    }
   ],
   "source": [
    "unique_routes = list(nx.all_simple_paths(G, source=source, target=target))\n",
    "unique_route_vecs = dict()\n",
    "for r in range(len(unique_routes)):\n",
    "    route = unique_routes[r]\n",
    "    route_vec = tuple(route_to_vec(route))\n",
    "    unique_route_vecs[route_vec] = r\n",
    "    \n",
    "print(\"All possible routes from {} to {}\".format(source, target))\n",
    "for r in range(len(unique_route_vecs)):\n",
    "    print(\"Route {} => {}\".format(r, list(unique_routes)[r]))\n",
    "    \n",
    "route_ids = []\n",
    "route_counts = [0] * len(unique_routes)\n",
    "for i in range(m):\n",
    "    l = tuple(labels[i])\n",
    "    r_id = unique_route_vecs[l]\n",
    "    route_ids.append(r_id)    \n",
    "    route_counts[r_id] += 1\n",
    "            \n",
    "for i in range(len(unique_routes)):\n",
    "    print(\"Route {} has {} examples in dataset\".format(i, route_counts[i]))\n",
    "    \n",
    "fig, ax = plt.subplots()\n",
    "bins = list(range(0, 14))\n",
    "plt.bar(bins, route_counts)\n",
    "ax.set_xticks([i for i in bins])\n",
    "ax.set_xticklabels(('0', '1', '2', '3', '4', '5', '6', '7', '8', '9', '10', '11', '12', '13'))\n",
    "fig.set_size_inches(10,5)\n",
    "plt.show()\n",
    "\n",
    "plt.pie(route_counts, labels=bins)\n",
    "plt.show()"
   ]
  },
  {
   "cell_type": "markdown",
   "metadata": {},
   "source": [
    "### Save Dataset to CSV"
   ]
  },
  {
   "cell_type": "code",
   "execution_count": null,
   "metadata": {},
   "outputs": [],
   "source": [
    "with open('some.csv', 'w', newline='') as f:\n",
    "    writer = csv.writer(f)\n",
    "    for i in range(m):\n",
    "        example = data[i] + labels[i]\n",
    "        writer.writerow(example)"
   ]
  },
  {
   "cell_type": "code",
   "execution_count": 3,
   "metadata": {},
   "outputs": [
    {
     "name": "stdout",
     "output_type": "stream",
     "text": [
      "(1, 2)\n",
      "(1, 26)\n",
      "(1, 29)\n",
      "(1, 23)\n",
      "(2, 19)\n",
      "(2, 3)\n",
      "(2, 5)\n",
      "(3, 4)\n",
      "(3, 5)\n",
      "(5, 6)\n",
      "(6, 19)\n",
      "(6, 7)\n",
      "(7, 8)\n",
      "(8, 9)\n",
      "(9, 10)\n",
      "(10, 11)\n",
      "(11, 12)\n",
      "(11, 13)\n",
      "(13, 14)\n",
      "(14, 15)\n",
      "(15, 16)\n",
      "(15, 20)\n",
      "(16, 17)\n",
      "(17, 18)\n",
      "(18, 19)\n",
      "(20, 21)\n",
      "(21, 22)\n",
      "(21, 23)\n",
      "(22, 24)\n",
      "(24, 25)\n",
      "(24, 26)\n",
      "(26, 27)\n",
      "(27, 28)\n",
      "(29, 30)\n"
     ]
    }
   ],
   "source": [
    "for edge in G.edges():\n",
    "    print(edge)"
   ]
  },
  {
   "cell_type": "code",
   "execution_count": null,
   "metadata": {},
   "outputs": [],
   "source": []
  }
 ],
 "metadata": {
  "kernelspec": {
   "display_name": "Python 3",
   "language": "python",
   "name": "python3"
  },
  "language_info": {
   "codemirror_mode": {
    "name": "ipython",
    "version": 3
   },
   "file_extension": ".py",
   "mimetype": "text/x-python",
   "name": "python",
   "nbconvert_exporter": "python",
   "pygments_lexer": "ipython3",
   "version": "3.5.2"
  }
 },
 "nbformat": 4,
 "nbformat_minor": 2
}
