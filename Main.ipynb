{
 "cells": [
  {
   "cell_type": "markdown",
   "metadata": {},
   "source": [
    "## Importing"
   ]
  },
  {
   "cell_type": "code",
   "execution_count": 1,
   "metadata": {},
   "outputs": [],
   "source": [
    "import numpy as np\n",
    "import matplotlib.pyplot as plt\n",
    "from matplotlib.ticker import FormatStrFormatter\n",
    "import networkx as nx\n",
    "import csv, sys\n",
    "import time\n",
    "\n",
    "\n",
    "%matplotlib inline"
   ]
  },
  {
   "cell_type": "markdown",
   "metadata": {},
   "source": [
    "## Network Setup"
   ]
  },
  {
   "cell_type": "code",
   "execution_count": 2,
   "metadata": {},
   "outputs": [
    {
     "name": "stdout",
     "output_type": "stream",
     "text": [
      "Network has 30 nodes\n",
      "Network has 34 edges\n",
      "Finding SP from 12 to 1\n"
     ]
    },
    {
     "data": {
      "image/png": "[encoded data removed]",
      "text/plain": [
       "<Figure size 432x288 with 1 Axes>"
      ]
     },
     "metadata": {},
     "output_type": "display_data"
    }
   ],
   "source": [
    "G=nx.Graph()\n",
    "G.add_nodes_from(list(range(1,30)))\n",
    "G.add_edge(1, 2)\n",
    "G.add_edge(2, 3)\n",
    "G.add_edge(2, 5)\n",
    "G.add_edge(3, 5)\n",
    "G.add_edge(3, 4)\n",
    "G.add_edge(2, 20)\n",
    "G.add_edge(6, 20)\n",
    "G.add_edge(5, 6)\n",
    "#.add_edge(6, 10)\n",
    "G.add_edge(6, 7)\n",
    "G.add_edge(7, 8)\n",
    "G.add_edge(8, 9)\n",
    "G.add_edge(9, 10)\n",
    "G.add_edge(10, 11)\n",
    "G.add_edge(11, 12)\n",
    "G.add_edge(11, 13)\n",
    "G.add_edge(13, 14)\n",
    "G.add_edge(14, 15)\n",
    "G.add_edge(15, 16)\n",
    "G.add_edge(16, 17)\n",
    "G.add_edge(17, 18)\n",
    "G.add_edge(18, 19)\n",
    "G.add_edge(19, 20)\n",
    "#.add_edge(17, 22)\n",
    "G.add_edge(16, 20)\n",
    "G.add_edge(20, 21)\n",
    "G.add_edge(21, 22)\n",
    "#.add_edge(22, 1)\n",
    "G.add_edge(21, 23)\n",
    "G.add_edge(23, 24)\n",
    "G.add_edge(24, 26)\n",
    "G.add_edge(26, 1)\n",
    "G.add_edge(1, 29)\n",
    "G.add_edge(29, 30)\n",
    "G.add_edge(24, 25)\n",
    "G.add_edge(26, 27)\n",
    "G.add_edge(27, 28)\n",
    "\n",
    "nodes = len(G.nodes())\n",
    "edges = len(G.edges())\n",
    "print(\"Network has {} nodes\".format(nodes))\n",
    "print(\"Network has {} edges\".format(edges))\n",
    "\n",
    "source = 12\n",
    "target = 1\n",
    "print(\"Finding SP from {} to {}\".format(source, target))\n",
    "\n",
    "nx.draw(G)\n",
    "plt.show()"
   ]
  },
  {
   "cell_type": "markdown",
   "metadata": {},
   "source": [
    "## Generating Data"
   ]
  },
  {
   "cell_type": "markdown",
   "metadata": {},
   "source": [
    "### Randomizing Input Weights"
   ]
  },
  {
   "cell_type": "code",
   "execution_count": 11,
   "metadata": {},
   "outputs": [
    {
     "name": "stdout",
     "output_type": "stream",
     "text": [
      "Max througtput: 125000000.0\n",
      "Min througtput: 100.0\n",
      "f max: 15.38\n",
      "f min: 1.2304e-05\n"
     ]
    }
   ],
   "source": [
    "gigabit_max_packet_size = 1518 + 12 + 8 # Ethernet Frame + Interframe Gap + Preamble\n",
    "gigabit_max_throughput = 125 * 1e6 # 1000 MB/s\n",
    "gigabit_min_throughput = 1e2       # 100 bytes/s\n",
    "f_min = gigabit_max_packet_size / gigabit_max_throughput\n",
    "f_max = gigabit_max_packet_size / gigabit_min_throughput\n",
    "\n",
    "print('Max througtput: ' + str(gigabit_max_throughput))\n",
    "print('Min througtput: ' + str(gigabit_min_throughput))\n",
    "print('f max: ' + str(f_max))\n",
    "print('f min: ' + str(f_min))\n",
    "\n",
    "def generate_example_inputs(G):\n",
    "    throughputs = []\n",
    "    for edge in G.edges():\n",
    "        i, j = edge\n",
    "        throughput = np.random.uniform(gigabit_min_throughput, gigabit_max_throughput)\n",
    "        G[i][j]['weight'] = gigabit_max_packet_size / throughput\n",
    "        throughputs.append(throughput)\n",
    "    return throughputs\n",
    "\n"
   ]
  },
  {
   "cell_type": "markdown",
   "metadata": {},
   "source": [
    "### Calculating Correct Path Output"
   ]
  },
  {
   "cell_type": "code",
   "execution_count": 12,
   "metadata": {},
   "outputs": [],
   "source": [
    "def generate_example_output(G):\n",
    "    dijkstra = nx.bidirectional_dijkstra(G, source=source, target=target)\n",
    "    node_path_list = dijkstra[1]\n",
    "    edge_path = nodes_to_edges(node_path_list)\n",
    "    path_vector = route_to_vec(edge_path)\n",
    "    return path_vector\n",
    "\n",
    "def route_to_vec(route):\n",
    "    path_vector = [0] * edges\n",
    "    for edge in route:\n",
    "        sorted_edge = tuple(sorted(edge))\n",
    "        edge_indx = edge_index[sorted_edge]\n",
    "        path_vector[edge_indx] = 1\n",
    "    return path_vector\n",
    "\n",
    "def nodes_to_edges(node_route):\n",
    "    edges = []\n",
    "    y = node_route[0]\n",
    "    for i in range(1, len(node_route)):\n",
    "        x = y\n",
    "        y = node_route[i]\n",
    "        edge = (x, y)\n",
    "        edges.append(edge)\n",
    "    return edges\n",
    "\n",
    "GG = list(G.edges())\n",
    "edge_index = dict((GG[value], value) for value in range(len(GG)))"
   ]
  },
  {
   "cell_type": "code",
   "execution_count": 13,
   "metadata": {},
   "outputs": [
    {
     "name": "stdout",
     "output_type": "stream",
     "text": [
      "Generating 14 examples\n"
     ]
    }
   ],
   "source": [
    "def generate_example():\n",
    "    x = generate_example_inputs(G)\n",
    "    y = generate_example_output(G)\n",
    "    return (x,y)\n",
    "\n",
    "m = 14\n",
    "vm = 14\n",
    "tm = 14\n",
    "\n",
    "print(\"Generating {} examples\".format(m))\n",
    "\n",
    "data = []\n",
    "labels = []\n",
    "\n",
    "for i in range(m):\n",
    "    x, y = generate_example()\n",
    "    data.append(x)\n",
    "    labels.append(y)"
   ]
  },
  {
   "cell_type": "markdown",
   "metadata": {},
   "source": [
    "### Dataset alanysis"
   ]
  },
  {
   "cell_type": "code",
   "execution_count": 14,
   "metadata": {},
   "outputs": [
    {
     "name": "stdout",
     "output_type": "stream",
     "text": [
      "All possible routes from 12 to 1\n",
      "Route 0 => [12, 11, 13, 14, 15, 16, 20, 2, 1]\n",
      "Route 1 => [12, 11, 10, 9, 8, 7, 6, 20, 2, 1]\n",
      "Route 2 => [12, 11, 10, 9, 8, 7, 6, 5, 2, 1]\n",
      "Route 3 => [12, 11, 10, 9, 8, 7, 6, 5, 3, 2, 1]\n",
      "Route 4 => [12, 11, 13, 14, 15, 16, 20, 6, 5, 2, 1]\n",
      "Route 5 => [12, 11, 13, 14, 15, 16, 17, 18, 19, 20, 2, 1]\n",
      "Route 6 => [12, 11, 13, 14, 15, 16, 20, 21, 23, 24, 26, 1]\n",
      "Route 7 => [12, 11, 13, 14, 15, 16, 20, 6, 5, 3, 2, 1]\n",
      "Route 8 => [12, 11, 10, 9, 8, 7, 6, 20, 21, 23, 24, 26, 1]\n",
      "Route 9 => [12, 11, 13, 14, 15, 16, 17, 18, 19, 20, 6, 5, 2, 1]\n",
      "Route 10 => [12, 11, 10, 9, 8, 7, 6, 5, 2, 20, 21, 23, 24, 26, 1]\n",
      "Route 11 => [12, 11, 13, 14, 15, 16, 17, 18, 19, 20, 21, 23, 24, 26, 1]\n",
      "Route 12 => [12, 11, 13, 14, 15, 16, 17, 18, 19, 20, 6, 5, 3, 2, 1]\n",
      "Route 13 => [12, 11, 10, 9, 8, 7, 6, 5, 3, 2, 20, 21, 23, 24, 26, 1]\n",
      "Route 0 has 1 examples in dataset\n",
      "Route 1 has 0 examples in dataset\n",
      "Route 2 has 1 examples in dataset\n",
      "Route 3 has 0 examples in dataset\n",
      "Route 4 has 3 examples in dataset\n",
      "Route 5 has 0 examples in dataset\n",
      "Route 6 has 1 examples in dataset\n",
      "Route 7 has 0 examples in dataset\n",
      "Route 8 has 0 examples in dataset\n",
      "Route 9 has 0 examples in dataset\n",
      "Route 10 has 8 examples in dataset\n",
      "Route 11 has 0 examples in dataset\n",
      "Route 12 has 0 examples in dataset\n",
      "Route 13 has 0 examples in dataset\n"
     ]
    },
    {
     "data": {
      "image/png": "[encoded data removed]",
      "text/plain": [
       "<Figure size 720x360 with 1 Axes>"
      ]
     },
     "metadata": {},
     "output_type": "display_data"
    },
    {
     "data": {
      "image/png": "[encoded data removed]",
      "text/plain": [
       "<Figure size 432x288 with 1 Axes>"
      ]
     },
     "metadata": {},
     "output_type": "display_data"
    }
   ],
   "source": [
    "unique_routes = list(nx.all_simple_paths(G, source=source, target=target))\n",
    "unique_routes_edges = [nodes_to_edges(i) for i in unique_routes]\n",
    "unique_route_vecs = dict()\n",
    "unique_routes_cnt = len(unique_routes)\n",
    "for r in range(unique_routes_cnt):\n",
    "    route = unique_routes_edges[r]\n",
    "    route_vec = tuple(route_to_vec(route))\n",
    "    unique_route_vecs[route_vec] = r\n",
    "\n",
    "unique_routes.sort(key=len)\n",
    "print(\"All possible routes from {} to {}\".format(source, target))\n",
    "for r in range(len(unique_route_vecs)):\n",
    "    print(\"Route {} => {}\".format(r, list(unique_routes)[r]))\n",
    "\n",
    "def analyze_dataset(G, labels):\n",
    "    route_ids = []\n",
    "    route_counts = [0] * len(unique_routes)\n",
    "    for i in range(m):\n",
    "        l = tuple(labels[i])\n",
    "        r_id = unique_route_vecs[l]\n",
    "        route_ids.append(r_id)    \n",
    "        route_counts[r_id] += 1\n",
    "\n",
    "    for i in range(len(unique_routes)):\n",
    "        print(\"Route {} has {} examples in dataset\".format(i, route_counts[i]))\n",
    "\n",
    "    fig, ax = plt.subplots()\n",
    "    bins = list(range(0, 14))\n",
    "    plt.bar(bins, route_counts)\n",
    "    ax.set_xticks([i for i in bins])\n",
    "    ax.set_xticklabels(('0', '1', '2', '3', '4', '5', '6', '7', '8', '9', '10', '11', '12', '13'))\n",
    "    fig.set_size_inches(10,5)\n",
    "    plt.show()\n",
    "\n",
    "    plt.pie(route_counts, labels=bins)\n",
    "    plt.show()\n",
    "    \n",
    "analyze_dataset(G, labels)"
   ]
  },
  {
   "cell_type": "markdown",
   "metadata": {},
   "source": [
    "### Generating Normalized Dataset"
   ]
  },
  {
   "cell_type": "code",
   "execution_count": 10,
   "metadata": {},
   "outputs": [
    {
     "name": "stdout",
     "output_type": "stream",
     "text": [
      "Generating 1 examples per route\n",
      "[48.127549171447754, 100000, [1, 1, 1, 1, 1, 1, 0, 1, 1, 1, 1, 1, 1, 1], 0.9285714285714286]\n",
      "[48.38054585456848, 200000, [1, 1, 1, 1, 1, 1, 0, 1, 1, 1, 1, 1, 1, 1], 0.9285714285714286]\n",
      "[48.49070978164673, 300000, [1, 1, 1, 1, 1, 1, 0, 1, 1, 1, 1, 1, 1, 1], 0.9285714285714286]\n",
      "Generating 1 examples per route\n",
      "Generating 1 examples per route\n"
     ]
    }
   ],
   "source": [
    "def generate_dataset(m):\n",
    "    cnt = [0] * unique_routes_cnt\n",
    "    examples_per_route = m // unique_routes_cnt\n",
    "    print('Generating {} examples per route'.format(examples_per_route))\n",
    "    new_datas = []\n",
    "    new_labels = []\n",
    "    i = 0\n",
    "    start = time.time()\n",
    "    while True:\n",
    "        new_data, new_label = generate_example()\n",
    "\n",
    "        route_type = unique_route_vecs[tuple(new_label)]\n",
    "        if cnt[route_type] < examples_per_route:\n",
    "            new_datas.append(new_data)\n",
    "            new_labels.append(new_label)\n",
    "            cnt[route_type] += 1\n",
    "\n",
    "        if len(new_datas) >= m:\n",
    "            break\n",
    "\n",
    "        i += 1\n",
    "        if i % 100000 == 0:\n",
    "            time_passed = time.time() - start\n",
    "            start = time.time()\n",
    "            print([time_passed, i, cnt, len(new_datas) / m])\n",
    "    return (new_datas, new_labels)\n",
    "\n",
    "train_data, train_labels = generate_dataset(m)\n",
    "validation_data, validation_labels = generate_dataset(vm)\n",
    "test_data, test_labels = generate_dataset(tm)"
   ]
  },
  {
   "cell_type": "code",
   "execution_count": 11,
   "metadata": {},
   "outputs": [
    {
     "name": "stdout",
     "output_type": "stream",
     "text": [
      "Route 0 has 1 examples in dataset\n",
      "Route 1 has 1 examples in dataset\n",
      "Route 2 has 1 examples in dataset\n",
      "Route 3 has 1 examples in dataset\n",
      "Route 4 has 1 examples in dataset\n",
      "Route 5 has 1 examples in dataset\n",
      "Route 6 has 1 examples in dataset\n",
      "Route 7 has 1 examples in dataset\n",
      "Route 8 has 1 examples in dataset\n",
      "Route 9 has 1 examples in dataset\n",
      "Route 10 has 1 examples in dataset\n",
      "Route 11 has 1 examples in dataset\n",
      "Route 12 has 1 examples in dataset\n",
      "Route 13 has 1 examples in dataset\n"
     ]
    },
    {
     "data": {
      "image/png": "[encoded data removed]",
      "text/plain": [
       "<Figure size 720x360 with 1 Axes>"
      ]
     },
     "metadata": {},
     "output_type": "display_data"
    },
    {
     "data": {
      "image/png": "[encoded data removed]",
      "text/plain": [
       "<Figure size 432x288 with 1 Axes>"
      ]
     },
     "metadata": {},
     "output_type": "display_data"
    }
   ],
   "source": [
    "analyze_dataset(G, train_labels)"
   ]
  },
  {
   "cell_type": "markdown",
   "metadata": {},
   "source": [
    "### Save Dataset to CSV"
   ]
  },
  {
   "cell_type": "code",
   "execution_count": 10,
   "metadata": {},
   "outputs": [],
   "source": [
    "# with open('train_dataset_140.csv', 'w', newline='') as f:\n",
    "#     writer = csv.writer(f)\n",
    "#     for i in range(m):\n",
    "#         example = train_data[i] + train_labels[i]\n",
    "#         writer.writerow(example)\n",
    "\n",
    "# with open('validation_dataset2.csv', 'w', newline='') as f:\n",
    "#     writer = csv.writer(f)\n",
    "#     for i in range(vm):\n",
    "#         example = validation_data[i] + validation_labels[i]\n",
    "#         writer.writerow(example)\n",
    "\n",
    "# with open('test_dataset2.csv', 'w', newline='') as f:\n",
    "#     writer = csv.writer(f)\n",
    "#     for i in range(tm):\n",
    "#         example = test_data[i] + test_labels[i]\n",
    "#         writer.writerow(example)"
   ]
  },
  {
   "cell_type": "code",
   "execution_count": 22,
   "metadata": {},
   "outputs": [],
   "source": [
    "with open('valid_routes.csv', 'w', newline='') as f:\n",
    "    writer = csv.writer(f)\n",
    "    for r in list(unique_route_vecs):\n",
    "        writer.writerow(r)"
   ]
  },
  {
   "cell_type": "code",
   "execution_count": 23,
   "metadata": {},
   "outputs": [
    {
     "name": "stdout",
     "output_type": "stream",
     "text": [
      "(1, 2)\n",
      "(2, 5)\n",
      "(5, 6)\n",
      "(6, 7)\n",
      "(7, 8)\n",
      "(8, 9)\n",
      "(9, 10)\n",
      "(10, 11)\n",
      "(11, 12)\n"
     ]
    }
   ],
   "source": []
  },
  {
   "cell_type": "code",
   "execution_count": 11,
   "metadata": {},
   "outputs": [
    {
     "data": {
      "text/plain": [
       "True"
      ]
     },
     "execution_count": 11,
     "metadata": {},
     "output_type": "execute_result"
    }
   ],
   "source": []
  },
  {
   "cell_type": "code",
   "execution_count": null,
   "metadata": {},
   "outputs": [],
   "source": []
  },
  {
   "cell_type": "code",
   "execution_count": null,
   "metadata": {},
   "outputs": [],
   "source": []
  },
  {
   "cell_type": "code",
   "execution_count": null,
   "metadata": {},
   "outputs": [],
   "source": []
  },
  {
   "cell_type": "code",
   "execution_count": null,
   "metadata": {},
   "outputs": [],
   "source": []
  }
 ],
 "metadata": {
  "kernelspec": {
   "display_name": "Python 3",
   "language": "python",
   "name": "python3"
  },
  "language_info": {
   "codemirror_mode": {
    "name": "ipython",
    "version": 3
   },
   "file_extension": ".py",
   "mimetype": "text/x-python",
   "name": "python",
   "nbconvert_exporter": "python",
   "pygments_lexer": "ipython3",
   "version": "3.5.2"
  }
 },
 "nbformat": 4,
 "nbformat_minor": 2
}
