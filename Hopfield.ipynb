{
 "cells": [
  {
   "cell_type": "code",
   "execution_count": 4,
   "metadata": {},
   "outputs": [
    {
     "name": "stderr",
     "output_type": "stream",
     "text": [
      "WARNING (theano.tensor.blas): Using NumPy C-API based implementation for BLAS functions.\n"
     ]
    }
   ],
   "source": [
    "import numpy as np\n",
    "from neupy import algorithms\n",
    "from numpy import genfromtxt\n",
    "from metrics import Metrics\n",
    "import csv, sys\n",
    "import time"
   ]
  },
  {
   "cell_type": "code",
   "execution_count": 5,
   "metadata": {},
   "outputs": [],
   "source": [
    "train_dataset_small = genfromtxt('train_dataset_1400.csv', delimiter=',')\n",
    "train_dataset_medium = genfromtxt('train_dataset_14000.csv', delimiter=',')\n",
    "train_dataset_large = genfromtxt('train_dataset_49000.csv', delimiter=',')\n",
    "cross_validation_dataset = genfromtxt('validation_dataset.csv', delimiter=',')\n",
    "test_dataset = genfromtxt('test_dataset.csv', delimiter=',')\n",
    "\n",
    "# Shuffle Train Data\n",
    "np.random.shuffle(train_dataset_small)\n",
    "np.random.shuffle(train_dataset_medium)\n",
    "np.random.shuffle(train_dataset_large)\n",
    "\n",
    "# Split into Inputs and Labels\n",
    "train_inputs_small, train_labels_small = np.hsplit(train_dataset_small, 2)\n",
    "train_inputs_small = np.array(train_inputs_small).reshape(len(train_dataset_small), 34)\n",
    "train_labels_small = np.array(train_labels_small).reshape(len(train_dataset_small), 34)\n",
    "\n",
    "train_inputs_medium , train_labels_medium  = np.hsplit(train_dataset_medium, 2)\n",
    "train_inputs_medium = np.array(train_inputs_medium).reshape(len(train_dataset_medium), 34)\n",
    "train_labels_medium = np.array(train_labels_medium).reshape(len(train_dataset_medium), 34)\n",
    "\n",
    "train_inputs_large, train_labels_large = np.hsplit(train_dataset_large, 2)\n",
    "train_inputs_large = np.array(train_inputs_large).reshape(len(train_dataset_large), 34)\n",
    "train_labels_large = np.array(train_labels_large).reshape(len(train_dataset_large), 34)\n",
    "\n",
    "cross_validation_inputs, cross_validation_labels = np.hsplit(cross_validation_dataset, 2)\n",
    "cross_validation_inputs = np.array(cross_validation_inputs).reshape(len(cross_validation_dataset), 34)\n",
    "cross_validation_labels = np.array(cross_validation_labels).reshape(len(cross_validation_dataset), 34)\n",
    "\n",
    "test_inputs, test_labels = np.hsplit(test_dataset, 2)\n",
    "test_inputs = np.array(test_inputs).reshape(len(test_dataset), 34)\n",
    "test_labels = np.array(test_labels).reshape(len(test_dataset), 34)\n",
    "\n",
    "# Normalize Data\n",
    "gigabit_max_throughput = 125 * 1e6 # 1000 MB/s\n",
    "gigabit_min_throughput = 1e2       # 100 bytes/s\n",
    "norm = gigabit_max_throughput - gigabit_min_throughput\n",
    "\n",
    "train_inputs_small = (train_inputs_small - gigabit_min_throughput) / norm\n",
    "train_inputs_medium = (train_inputs_medium - gigabit_min_throughput) / norm\n",
    "train_inputs_large = (train_inputs_large - gigabit_min_throughput) / norm\n",
    "cross_validation_inputs = (cross_validation_inputs - gigabit_min_throughput) / norm\n",
    "test_inputs = (test_inputs - gigabit_min_throughput) / norm\n",
    "\n",
    "train_data_small = np.concatenate((train_inputs_small, train_labels_small), axis = 1)\n",
    "train_data_medium = np.concatenate((train_inputs_medium, train_labels_medium), axis = 1)\n",
    "train_data_large = np.concatenate((train_inputs_large, train_labels_large), axis = 1)\n",
    "validation_data = np.concatenate((cross_validation_inputs, cross_validation_labels), axis = 1)\n",
    "test_data = np.concatenate((test_inputs, test_labels), axis = 1)"
   ]
  },
  {
   "cell_type": "code",
   "execution_count": 7,
   "metadata": {},
   "outputs": [
    {
     "ename": "ValueError",
     "evalue": "You can't memorize more than 9 samples",
     "output_type": "error",
     "traceback": [
      "\u001b[0;31m---------------------------------------------------------------------------\u001b[0m",
      "\u001b[0;31mValueError\u001b[0m                                Traceback (most recent call last)",
      "\u001b[0;32m<ipython-input-7-b68cb22e31fc>\u001b[0m in \u001b[0;36m<module>\u001b[0;34m()\u001b[0m\n\u001b[1;32m      1\u001b[0m \u001b[0mdhnet\u001b[0m \u001b[0;34m=\u001b[0m \u001b[0malgorithms\u001b[0m\u001b[0;34m.\u001b[0m\u001b[0mDiscreteHopfieldNetwork\u001b[0m\u001b[0;34m(\u001b[0m\u001b[0mmode\u001b[0m\u001b[0;34m=\u001b[0m\u001b[0;34m'async'\u001b[0m\u001b[0;34m)\u001b[0m\u001b[0;34m\u001b[0m\u001b[0m\n\u001b[0;32m----> 2\u001b[0;31m \u001b[0mdhnet\u001b[0m\u001b[0;34m.\u001b[0m\u001b[0mtrain\u001b[0m\u001b[0;34m(\u001b[0m\u001b[0mnp\u001b[0m\u001b[0;34m.\u001b[0m\u001b[0mround\u001b[0m\u001b[0;34m(\u001b[0m\u001b[0mtrain_data_large\u001b[0m\u001b[0;34m)\u001b[0m\u001b[0;34m)\u001b[0m\u001b[0;34m\u001b[0m\u001b[0m\n\u001b[0m",
      "\u001b[0;32m/usr/local/lib/python3.5/dist-packages/neupy/algorithms/memory/discrete_hopfield_network.py\u001b[0m in \u001b[0;36mtrain\u001b[0;34m(self, input_data)\u001b[0m\n\u001b[1;32m    150\u001b[0m             \u001b[0;32mif\u001b[0m \u001b[0mn_rows_after_update\u001b[0m \u001b[0;34m>\u001b[0m \u001b[0mmemory_limit\u001b[0m\u001b[0;34m:\u001b[0m\u001b[0;34m\u001b[0m\u001b[0m\n\u001b[1;32m    151\u001b[0m                 raise ValueError(\"You can't memorize more than {0} \"\n\u001b[0;32m--> 152\u001b[0;31m                                  \"samples\".format(memory_limit))\n\u001b[0m\u001b[1;32m    153\u001b[0m \u001b[0;34m\u001b[0m\u001b[0m\n\u001b[1;32m    154\u001b[0m         \u001b[0mweight_shape\u001b[0m \u001b[0;34m=\u001b[0m \u001b[0;34m(\u001b[0m\u001b[0mn_features\u001b[0m\u001b[0;34m,\u001b[0m \u001b[0mn_features\u001b[0m\u001b[0;34m)\u001b[0m\u001b[0;34m\u001b[0m\u001b[0m\n",
      "\u001b[0;31mValueError\u001b[0m: You can't memorize more than 9 samples"
     ]
    }
   ],
   "source": [
    "dhnet = algorithms.DiscreteHopfieldNetwork(mode='async')\n",
    "dhnet.train(np.round(train_data_large))"
   ]
  },
  {
   "cell_type": "code",
   "execution_count": null,
   "metadata": {},
   "outputs": [],
   "source": []
  }
 ],
 "metadata": {
  "kernelspec": {
   "display_name": "Python 3",
   "language": "python",
   "name": "python3"
  },
  "language_info": {
   "codemirror_mode": {
    "name": "ipython",
    "version": 3
   },
   "file_extension": ".py",
   "mimetype": "text/x-python",
   "name": "python",
   "nbconvert_exporter": "python",
   "pygments_lexer": "ipython3",
   "version": "3.5.2"
  }
 },
 "nbformat": 4,
 "nbformat_minor": 2
}
